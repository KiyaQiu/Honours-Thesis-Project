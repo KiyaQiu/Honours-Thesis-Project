{
 "cells": [
  {
   "cell_type": "markdown",
   "metadata": {},
   "source": [
    "# 3D Abdominal CT Registration Code"
   ]
  },
  {
   "cell_type": "markdown",
   "metadata": {},
   "source": [
    "This Python notebook includes the implementation of the two-stage 3D registration of CT image, as well as the generation process of segmentation mask from the registration result. "
   ]
  },
  {
   "cell_type": "markdown",
   "metadata": {},
   "source": [
    "## Importing Packages"
   ]
  },
  {
   "cell_type": "code",
   "execution_count": null,
   "metadata": {},
   "outputs": [],
   "source": [
    "import SimpleITK as sitk\n",
    "import numpy as np\n",
    "from matplotlib import pyplot as plt\n",
    "\n",
    "from IPython.display import clear_output\n",
    "from ipywidgets import interact, fixed"
   ]
  },
  {
   "cell_type": "markdown",
   "metadata": {},
   "source": [
    "## Defining Functions"
   ]
  },
  {
   "cell_type": "code",
   "execution_count": null,
   "metadata": {},
   "outputs": [],
   "source": [
    "# Callback invoked by the interact IPython method for scrolling through the image stacks of\n",
    "# the two images (moving and fixed).\n",
    "def display_images(fixed_image_z, moving_image_z, fixed_npa, moving_npa):\n",
    "    # Create a figure with two subplots and the specified size.\n",
    "    plt.subplots(1,2,figsize=(10,8))\n",
    "    \n",
    "    # Draw the fixed image in the first subplot.\n",
    "    plt.subplot(1,2,1)\n",
    "    plt.imshow(fixed_npa[fixed_image_z,:,:],cmap=plt.cm.Greys_r);\n",
    "    plt.title('fixed image')\n",
    "    plt.axis('off')\n",
    "    \n",
    "    # Draw the moving image in the second subplot.\n",
    "    plt.subplot(1,2,2)\n",
    "    plt.imshow(moving_npa[moving_image_z,:,:],cmap=plt.cm.Greys_r);\n",
    "    plt.title('moving image')\n",
    "    plt.axis('off')\n",
    "    \n",
    "    plt.show()\n",
    "\n",
    "# Callback invoked by the IPython interact method for scrolling and modifying the alpha blending\n",
    "# of an image stack of two images that occupy the same physical space. \n",
    "def display_images_with_alpha(image_z, alpha, fixed, moving):\n",
    "    img = (1.0 - alpha)*fixed[:,:,image_z] + alpha*moving[:,:,image_z] \n",
    "    plt.imshow(sitk.GetArrayViewFromImage(img),cmap=plt.cm.Greys_r);\n",
    "    plt.axis('off')\n",
    "    plt.show()\n",
    "    \n",
    "# Callback invoked when the StartEvent happens, sets up our new data.\n",
    "def start_plot():\n",
    "    global metric_values, multires_iterations\n",
    "    \n",
    "    metric_values = []\n",
    "    multires_iterations = []\n",
    "\n",
    "# Callback invoked when the EndEvent happens, do cleanup of data and figure.\n",
    "def end_plot():\n",
    "    global metric_values, multires_iterations\n",
    "    \n",
    "    del metric_values\n",
    "    del multires_iterations\n",
    "    # Close figure, we don't want to get a duplicate of the plot latter on.\n",
    "    plt.close()\n",
    "\n",
    "# Callback invoked when the IterationEvent happens, update our data and display new figure.\n",
    "def plot_values(registration_method):\n",
    "    global metric_values, multires_iterations\n",
    "    \n",
    "    metric_values.append(registration_method.GetMetricValue())                                       \n",
    "    # Clear the output area (wait=True, to reduce flickering), and plot current data\n",
    "    clear_output(wait=True)\n",
    "    # Plot the similarity metric values\n",
    "    plt.plot(metric_values, 'r')\n",
    "    plt.plot(multires_iterations, [metric_values[index] for index in multires_iterations], 'b*')\n",
    "    plt.xlabel('Iteration Number',fontsize=12)\n",
    "    plt.ylabel('Metric Value',fontsize=12)\n",
    "    plt.show()\n",
    "    \n",
    "# Callback invoked when the sitkMultiResolutionIterationEvent happens, update the index into the \n",
    "# metric_values list. \n",
    "def update_multires_iterations():\n",
    "    global metric_values, multires_iterations\n",
    "    multires_iterations.append(len(metric_values))"
   ]
  },
  {
   "cell_type": "markdown",
   "metadata": {},
   "source": [
    "## Loading Image Data"
   ]
  },
  {
   "cell_type": "code",
   "execution_count": null,
   "metadata": {},
   "outputs": [],
   "source": [
    "fixed_img_path = 'fixed_img_path'\n",
    "moving_img_path = 'moving_img_path'"
   ]
  },
  {
   "cell_type": "code",
   "execution_count": null,
   "metadata": {},
   "outputs": [],
   "source": [
    "# Running the following code if the image files are in dcm format\n",
    "reader = sitk.ImageFileReader()\n",
    "reader.SetImageIO(\"GDCMImageIO\")\n",
    "reader.SetFileName(fixed_img_path)\n",
    "fixed_image_original = reader.Execute();\n",
    "fixed_image_array = sitk.GetArrayFromImage(fixed_image_original)\n",
    "\n",
    "# Running the following code if the image files are in DICOM series format\n",
    "series_file_names = sitk.ImageSeriesReader.GetGDCMSeriesFileNames(fixed_img_path)\n",
    "series_reader = sitk.ImageSeriesReader()\n",
    "series_reader.SetFileNames(series_file_names)\n",
    "fixed_image_original = series_reader.Execute()\n",
    "fixed_image_array = sitk.GetArrayFromImage(fixed_image_original)\n",
    "\n",
    "print('The size of image is: ', fixed_image_original.GetSize())\n",
    "print('The range of intensity is from ', np.min(fixed_image_array), 'to ', np.max(fixed_image_array))"
   ]
  },
  {
   "cell_type": "code",
   "execution_count": null,
   "metadata": {},
   "outputs": [],
   "source": [
    "# Running the following code if the image files are in dcm format\n",
    "reader = sitk.ImageFileReader()\n",
    "reader.SetImageIO(\"GDCMImageIO\")\n",
    "reader.SetFileName(moving_img_path)\n",
    "moving_image_original = reader.Execute();\n",
    "moving_image_array = sitk.GetArrayFromImage(moving_image_original)\n",
    "\n",
    "# Running the following code if the image files are in DICOM series format\n",
    "series_file_names = sitk.ImageSeriesReader.GetGDCMSeriesFileNames(moving_img_path)\n",
    "series_reader = sitk.ImageSeriesReader()\n",
    "series_reader.SetFileNames(series_file_names)\n",
    "moving_image_original = series_reader.Execute()\n",
    "moving_image_array = sitk.GetArrayFromImage(moving_image_original)\n",
    "\n",
    "print('The size of image is: ',moving_image.GetSize())\n",
    "print('The range of intensity is from ', np.min(moving_image_array), 'to ', np.max(moving_image_array))"
   ]
  },
  {
   "cell_type": "markdown",
   "metadata": {},
   "source": [
    "## Plotting Histogram"
   ]
  },
  {
   "cell_type": "code",
   "execution_count": null,
   "metadata": {},
   "outputs": [],
   "source": [
    "# Plotting the histogram of fixed image\n",
    "plt.figure('historgram')\n",
    "fixed_hist = fixed_image_array.flatten()\n",
    "n, bins, patches = plt.hist(fixed_hist, bins=256, range= (fixed_hist.min(),fixed_hist.max()), histtype = 'step')\n",
    "plt.axis([-1100, 900, 0, 4000000])\n",
    "plt.title('Intensity Histogram of Abdominal CT Image')\n",
    "plt.xlabel('Intensity Value (HU)')\n",
    "plt.ylabel('Number of Pixels')\n",
    "plt.show()"
   ]
  },
  {
   "cell_type": "code",
   "execution_count": null,
   "metadata": {},
   "outputs": [],
   "source": [
    "# Plotting the histogram of moving image\n",
    "plt.figure('historgram')\n",
    "moving_hist = moving_image_array.flatten()\n",
    "n, bins, patches = plt.hist(moving_hist, bins=256, range= (fixed_hist.min(),fixed_hist.max()), histtype = 'step')\n",
    "plt.axis([-1100, 900, 0, 4000000])\n",
    "plt.title('Intensity Histogram of Abdominal CT Image')\n",
    "plt.xlabel('Intensity Value (HU)')\n",
    "plt.ylabel('Number of Pixels')\n",
    "plt.show()"
   ]
  },
  {
   "cell_type": "markdown",
   "metadata": {},
   "source": [
    "## Windowing"
   ]
  },
  {
   "cell_type": "code",
   "execution_count": null,
   "metadata": {},
   "outputs": [],
   "source": [
    "# Performing windowing with a width of 700 and a level of 50, followed by normlising the output intensity range to 0-1\n",
    "fixed_image = sitk.Cast(sitk.IntensityWindowing(fixed_image_original, windowMinimum=-300, windowMaximum=400, \n",
    "                                             outputMinimum=0.0, outputMaximum=1.0), sitk.sitkFloat32)\n",
    "moving_image = sitk.Cast(sitk.IntensityWindowing(moving_image_original, windowMinimum=-300, windowMaximum=400, \n",
    "                                             outputMinimum=0.0, outputMaximum=1.0), sitk.sitkFloat32)"
   ]
  },
  {
   "cell_type": "markdown",
   "metadata": {},
   "source": [
    "## Displaying 3D Images"
   ]
  },
  {
   "cell_type": "code",
   "execution_count": null,
   "metadata": {},
   "outputs": [],
   "source": [
    "interact(display_images, fixed_image_z=(0,fixed_image.GetSize()[2]-1), moving_image_z=(0,moving_image.GetSize()[2]-1), fixed_npa = fixed(sitk.GetArrayViewFromImage(fixed_image)), moving_npa=fixed(sitk.GetArrayViewFromImage(moving_image)));"
   ]
  },
  {
   "cell_type": "markdown",
   "metadata": {},
   "source": [
    "## Registration Step 1 (Affine Transformation)"
   ]
  },
  {
   "cell_type": "code",
   "execution_count": null,
   "metadata": {
    "scrolled": false
   },
   "outputs": [],
   "source": [
    "dimension = 3\n",
    "\n",
    "initial_transform_1 = sitk.CenteredTransformInitializer(fixed_image, \n",
    "                                                      moving_image, \n",
    "                                                      sitk.AffineTransform(dimension), \n",
    "                                                      sitk.CenteredTransformInitializerFilter.GEOMETRY)\n",
    "\n",
    "moving_resampled = sitk.Resample(moving_image, fixed_image, initial_transform_1, sitk.sitkLinear, 0.0, moving_image.GetPixelID())"
   ]
  },
  {
   "cell_type": "code",
   "execution_count": null,
   "metadata": {},
   "outputs": [],
   "source": [
    "registration_method_1 = sitk.ImageRegistrationMethod()\n",
    "\n",
    "# Similarity metric settings.\n",
    "registration_method_1.SetMetricAsMeanSquares()\n",
    "registration_method_1.SetMetricSamplingStrategy(registration_method_1.RANDOM)\n",
    "registration_method_1.SetMetricSamplingPercentage(0.01)\n",
    "\n",
    "registration_method_1.SetInterpolator(sitk.sitkLinear)\n",
    "\n",
    "# Optimizer settings.\n",
    "registration_method_1.SetOptimizerAsGradientDescent(learningRate=1.0, numberOfIterations=500, convergenceMinimumValue=1e-6, convergenceWindowSize=5)\n",
    "registration_method_1.SetOptimizerScalesFromPhysicalShift()\n",
    "\n",
    "# Setup for the multi-resolution framework.            \n",
    "registration_method_1.SetShrinkFactorsPerLevel(shrinkFactors = [4,2,1])\n",
    "registration_method_1.SetSmoothingSigmasPerLevel(smoothingSigmas=[2,1,0])\n",
    "registration_method_1.SmoothingSigmasAreSpecifiedInPhysicalUnitsOn()\n",
    "\n",
    "# Don't optimize in-place, we would possibly like to run this cell multiple times.\n",
    "registration_method_1.SetInitialTransform(initial_transform_1, inPlace=False)\n",
    "\n",
    "# Connect all of the observers so that we can perform plotting during registration.\n",
    "registration_method_1.AddCommand(sitk.sitkStartEvent, start_plot)\n",
    "registration_method_1.AddCommand(sitk.sitkEndEvent, end_plot)\n",
    "registration_method_1.AddCommand(sitk.sitkMultiResolutionIterationEvent, update_multires_iterations) \n",
    "registration_method_1.AddCommand(sitk.sitkIterationEvent, lambda: plot_values(registration_method_1))\n",
    "\n",
    "final_transform_1 = registration_method_1.Execute(sitk.Cast(fixed_image, sitk.sitkFloat32), \n",
    "                                               sitk.Cast(moving_image, sitk.sitkFloat32))"
   ]
  },
  {
   "cell_type": "code",
   "execution_count": null,
   "metadata": {},
   "outputs": [],
   "source": [
    "print('Final metric value: {0}'.format(registration_method_1.GetMetricValue()))\n",
    "print('Optimizer\\'s stopping condition, {0}'.format(registration_method_1.GetOptimizerStopConditionDescription()))"
   ]
  },
  {
   "cell_type": "code",
   "execution_count": null,
   "metadata": {},
   "outputs": [],
   "source": [
    "moving_resampled_1 = sitk.Resample(moving_image, fixed_image, final_transform_1, sitk.sitkLinear, 0.0, moving_image.GetPixelID())\n",
    "\n",
    "interact(display_images, fixed_image_z=(0,fixed_image.GetSize()[2]-1), moving_image_z=(0,moving_resampled_1.GetSize()[2]-1), fixed_npa = fixed(sitk.GetArrayViewFromImage(fixed_image)), moving_npa=fixed(sitk.GetArrayViewFromImage(moving_resampled_1)));"
   ]
  },
  {
   "cell_type": "markdown",
   "metadata": {},
   "source": [
    "## Registration Step 2 (Bspline Transformation)"
   ]
  },
  {
   "cell_type": "code",
   "execution_count": null,
   "metadata": {},
   "outputs": [],
   "source": [
    "transformDomainMeshSize = [3]*fixed_image.GetDimension()\n",
    "\n",
    "initial_transform_2 = sitk.BSplineTransformInitializer(fixed_image, \n",
    "                                                      transformDomainMeshSize)\n",
    "\n",
    "moving_resampled_2 = sitk.Resample(moving_resampled_1, fixed_image, initial_transform_2, sitk.sitkLinear, 0.0, moving_resampled_1.GetPixelID())"
   ]
  },
  {
   "cell_type": "code",
   "execution_count": null,
   "metadata": {
    "scrolled": true
   },
   "outputs": [],
   "source": [
    "registration_method_2 = sitk.ImageRegistrationMethod()\n",
    "\n",
    "# Similarity metric settings.\n",
    "registration_method_2.SetMetricAsMeanSquares()\n",
    "registration_method_2.SetMetricSamplingStrategy(registration_method_2.RANDOM)\n",
    "registration_method_2.SetMetricSamplingPercentage(0.01)\n",
    "\n",
    "registration_method_2.SetInterpolator(sitk.sitkLinear)\n",
    "\n",
    "# Optimizer settings.\n",
    "registration_method_2.SetOptimizerAsGradientDescent(learningRate=5.0, numberOfIterations=1000, convergenceMinimumValue=1e-6, convergenceWindowSize=5)\n",
    "registration_method_2.SetOptimizerScalesFromPhysicalShift()\n",
    "\n",
    "# Setup for the multi-resolution framework.            \n",
    "registration_method_2.SetShrinkFactorsPerLevel(shrinkFactors = [4,2,1])\n",
    "registration_method_2.SetSmoothingSigmasPerLevel(smoothingSigmas=[4,2,1])\n",
    "\n",
    "registration_method_2.SetInitialTransformAsBSpline(initial_transform_2, inPlace=False, scaleFactors=[1,2,5])\n",
    "\n",
    "# Connect all of the observers so that we can perform plotting during registration.\n",
    "registration_method_2.AddCommand(sitk.sitkStartEvent, start_plot)\n",
    "registration_method_2.AddCommand(sitk.sitkEndEvent, end_plot)\n",
    "registration_method_2.AddCommand(sitk.sitkMultiResolutionIterationEvent, update_multires_iterations) \n",
    "registration_method_2.AddCommand(sitk.sitkIterationEvent, lambda: plot_values(registration_method_2))\n",
    "\n",
    "final_transform_2 = registration_method_2.Execute(sitk.Cast(fixed_image, sitk.sitkFloat32), \n",
    "                                               sitk.Cast(moving_resampled_1, sitk.sitkFloat32))"
   ]
  },
  {
   "cell_type": "code",
   "execution_count": null,
   "metadata": {},
   "outputs": [],
   "source": [
    "print('Final metric value: {0}'.format(registration_method_2.GetMetricValue()))\n",
    "print('Optimizer\\'s stopping condition, {0}'.format(registration_method_2.GetOptimizerStopConditionDescription()))"
   ]
  },
  {
   "cell_type": "code",
   "execution_count": null,
   "metadata": {
    "scrolled": true
   },
   "outputs": [],
   "source": [
    "moving_resampled_2 = sitk.Resample(moving_resampled_1, fixed_image, final_transform_2, sitk.sitkLinear, 0.0, moving_resampled_1.GetPixelID())\n",
    "\n",
    "interact(display_images, fixed_image_z=(0,fixed_image.GetSize()[2]-1), moving_image_z=(0,moving_resampled_2.GetSize()[2]-1), fixed_npa = fixed(sitk.GetArrayViewFromImage(fixed_image)), moving_npa=fixed(sitk.GetArrayViewFromImage(moving_resampled_2)));"
   ]
  },
  {
   "cell_type": "markdown",
   "metadata": {},
   "source": [
    "## Loading Segmentation"
   ]
  },
  {
   "cell_type": "code",
   "execution_count": null,
   "metadata": {},
   "outputs": [],
   "source": [
    "fixed_seg_path = 'fixed_seg_path'\n",
    "\n",
    "fixed_seg = sitk.ReadImage(fixed_seg_path)\n",
    "\n",
    "print('The size of image is: ', fixed_seg.GetSize())\n",
    "print('The range of intensity is from ', np.min(sitk.GetArrayFromImage(fixed_seg)), 'to ', np.max(sitk.GetArrayFromImage(fixed_seg)))"
   ]
  },
  {
   "cell_type": "code",
   "execution_count": null,
   "metadata": {},
   "outputs": [],
   "source": [
    "interact(display_images, fixed_image_z=(0,fixed_seg.GetSize()[2]-1), moving_image_z=(0,fixed_image.GetSize()[2]-1), fixed_npa = fixed(fixed_seg_array), moving_npa=fixed(sitk.GetArrayFromImage(fixed_image)));"
   ]
  },
  {
   "cell_type": "markdown",
   "metadata": {},
   "source": [
    "## Computing Inverse Bspline Transformation "
   ]
  },
  {
   "cell_type": "code",
   "execution_count": null,
   "metadata": {},
   "outputs": [],
   "source": [
    "# Computing the deformation field of B-spline transformation\n",
    "disp_field = sitk.TransformToDisplacementField(final_transform_2, \n",
    "                                               sitk.sitkVectorFloat32,\n",
    "                                               fixed_image.GetSize(),\n",
    "                                               fixed_image.GetOrigin(),\n",
    "                                               fixed_image.GetSpacing(),\n",
    "                                               fixed_image.GetDirection())\n",
    "\n",
    "# Computing the inverse deformation field and converting to the transformation\n",
    "disp_field_inv = sitk.InvertDisplacementField(disp_field,10)\n",
    "inverse_transform_2 = sitk.DisplacementFieldTransform(sitk.Cast(disp_field_inv, sitk.sitkVectorFloat64))"
   ]
  },
  {
   "cell_type": "code",
   "execution_count": null,
   "metadata": {},
   "outputs": [],
   "source": [
    "moving_seg_generated_1 = sitk.Resample(fixed_seg, moving_resampled_1, inverse_transform_2, sitk.sitkNearestNeighbor, 0.0, fixed_seg.GetPixelID())"
   ]
  },
  {
   "cell_type": "markdown",
   "metadata": {},
   "source": [
    "## Computing Inverse Affine Transformation"
   ]
  },
  {
   "cell_type": "code",
   "execution_count": null,
   "metadata": {},
   "outputs": [],
   "source": [
    "inverse_transform_1 = final_transform_1.GetInverse()"
   ]
  },
  {
   "cell_type": "code",
   "execution_count": null,
   "metadata": {},
   "outputs": [],
   "source": [
    "moving_seg_generated_2 = sitk.Resample(moving_seg_generated_1, moving_image, inverse_transform_1, sitk.sitkNearestNeighbor, 0.0, moving_seg_generated_1.GetPixelID())"
   ]
  },
  {
   "cell_type": "markdown",
   "metadata": {},
   "source": [
    "## Writing and Saving the Generated Segmentation Mask"
   ]
  },
  {
   "cell_type": "code",
   "execution_count": null,
   "metadata": {},
   "outputs": [],
   "source": [
    "generated_seg = sitk.GetImageFromArray(sitk.GetArrayViewFromImage(moving_seg_generated_2)"
   ]
  },
  {
   "cell_type": "code",
   "execution_count": null,
   "metadata": {},
   "outputs": [],
   "source": [
    "sitk.WriteImage(moving_seg_generated_2, 'generated_seg_path')"
   ]
  },
  {
   "cell_type": "code",
   "execution_count": null,
   "metadata": {},
   "outputs": [],
   "source": []
  }
 ],
 "metadata": {
  "kernelspec": {
   "display_name": "Python 3",
   "language": "python",
   "name": "python3"
  },
  "language_info": {
   "codemirror_mode": {
    "name": "ipython",
    "version": 3
   },
   "file_extension": ".py",
   "mimetype": "text/x-python",
   "name": "python",
   "nbconvert_exporter": "python",
   "pygments_lexer": "ipython3",
   "version": "3.7.6"
  }
 },
 "nbformat": 4,
 "nbformat_minor": 2
}
