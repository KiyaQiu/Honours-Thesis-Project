{
 "cells": [
  {
   "cell_type": "markdown",
   "metadata": {},
   "source": [
    "# 3D Patch Extraction Code"
   ]
  },
  {
   "cell_type": "markdown",
   "metadata": {},
   "source": [
    "This Python notebook implemented the 3D image patch extraction process used to generate dataset for training deep learning model. "
   ]
  },
  {
   "cell_type": "markdown",
   "metadata": {},
   "source": [
    "## Importing Packages"
   ]
  },
  {
   "cell_type": "code",
   "execution_count": null,
   "metadata": {},
   "outputs": [],
   "source": [
    "import SimpleITK as sitk\n",
    "import numpy as np\n",
    "from matplotlib import pyplot as plt\n",
    "from numpy.lib import stride_tricks"
   ]
  },
  {
   "cell_type": "markdown",
   "metadata": {},
   "source": [
    "## Defining Functions"
   ]
  },
  {
   "cell_type": "code",
   "execution_count": null,
   "metadata": {},
   "outputs": [],
   "source": [
    "# Function used to extract patch from original image data\n",
    "def cutup(data, blck, strd):\n",
    "    sh = np.array(data.shape)\n",
    "    blck = np.asanyarray(blck)\n",
    "    strd = np.asanyarray(strd)\n",
    "    nbl = (sh - blck) // strd + 1\n",
    "    strides = np.r_[data.strides * strd, data.strides]\n",
    "    dims = np.r_[nbl, blck]\n",
    "    patch = stride_tricks.as_strided(data, strides=strides, shape=dims)\n",
    "    return patch"
   ]
  },
  {
   "cell_type": "code",
   "execution_count": null,
   "metadata": {},
   "outputs": [],
   "source": [
    "# Function used to resize image data\n",
    "def resize_image_itk(itkimage, newSize, resamplemethod=sitk.sitkNearestNeighbor):\n",
    "    resampler = sitk.ResampleImageFilter()\n",
    "    originSize = itkimage.GetSize()\n",
    "    originSpacing = itkimage.GetSpacing()\n",
    "    newSize = np.array(newSize,float)\n",
    "    factor = originSize / newSize\n",
    "    newSpacing = originSpacing * factor\n",
    "    newSize = newSize.astype(np.int)\n",
    "    resampler.SetReferenceImage(itkimage)\n",
    "    resampler.SetSize(newSize.tolist())\n",
    "    resampler.SetOutputSpacing(newSpacing.tolist())\n",
    "    resampler.SetTransform(sitk.Transform(3, sitk.sitkIdentity))\n",
    "    resampler.SetInterpolator(resamplemethod)\n",
    "    itkimgResampled = resampler.Execute(itkimage)\n",
    "    return itkimgResampled"
   ]
  },
  {
   "cell_type": "markdown",
   "metadata": {},
   "source": [
    "## Loading Image and Mask Data"
   ]
  },
  {
   "cell_type": "code",
   "execution_count": null,
   "metadata": {},
   "outputs": [],
   "source": [
    "# CT image loading and processing\n",
    "img_path = 'img_path'\n",
    "reader = sitk.ImageFileReader()\n",
    "reader.SetImageIO(\"GDCMImageIO\") # Change to \"NrrdImageIO\" if the image is in nrrd format\n",
    "reader.SetFileName(img_path)\n",
    "image_original = reader.Execute();\n",
    "img_array_original = sitk.GetArrayFromImage(image_original)/255\n",
    "img_resized = resize_image_itk(sitk.GetImageFromArray(img_array_original), (256, 256, img_array_original.shape[0]))\n",
    "image_array = sitk.GetArrayFromImage(img_resized)\n",
    "\n",
    "print('The size of image is: ', image_array.shape)\n",
    "print('The range of intensity is from ', np.min(image_array), 'to ', np.max(image_array))"
   ]
  },
  {
   "cell_type": "code",
   "execution_count": null,
   "metadata": {},
   "outputs": [],
   "source": [
    "# Segmentation mask loading and processing\n",
    "seg_path = 'seg_path'\n",
    "seg_image = sitk.ReadImage(seg_path)\n",
    "seg_array_original = sitk.GetArrayFromImage(seg_image)\n",
    "seg_resized = resize_image_itk(sitk.GetImageFromArray(seg_array_original), (256, 256, seg_array_original.shape[0]))\n",
    "seg_array = sitk.GetArrayFromImage(seg_resized)\n",
    "print('The size of image is: ', seg_array.shape)\n",
    "print('The range of intensity is from ', np.min(seg_array), 'to ', np.max(seg_array))"
   ]
  },
  {
   "cell_type": "markdown",
   "metadata": {},
   "source": [
    "## Patch Extraction"
   ]
  },
  {
   "cell_type": "code",
   "execution_count": null,
   "metadata": {},
   "outputs": [],
   "source": [
    "# Extracting CT image patches\n",
    "patches_extracted = cutup(image_array, (64, 128, 128), (32, 64, 64))\n",
    "patches = np.reshape(patches_extracted, (patches_extracted.shape[0]*patches_extracted.shape[1]*patches_extracted.shape[2],64,128,128))"
   ]
  },
  {
   "cell_type": "code",
   "execution_count": null,
   "metadata": {},
   "outputs": [],
   "source": [
    "# Extracting segmentation mask patches\n",
    "seg_patches_extracted = cutup(seg_array, (64, 128, 128), (32, 64, 64))\n",
    "seg_patches = np.reshape(seg_patches_extracted, (seg_patches_extracted.shape[0]*seg_patches_extracted.shape[1]*seg_patches_extracted.shape[2],64,128,128)).astype('int8')"
   ]
  },
  {
   "cell_type": "markdown",
   "metadata": {},
   "source": [
    "## Writing Generated Patches"
   ]
  },
  {
   "cell_type": "code",
   "execution_count": null,
   "metadata": {},
   "outputs": [],
   "source": [
    "for i in range(patches.shape[0]):\n",
    "    curr_img = sitk.GetImageFromArray(patches[i,:,:,:])\n",
    "    sitk.WriteImage(curr_img, 'path/img/patch_%d.nrrd' % i)\n",
    "    curr_seg = sitk.GetImageFromArray(seg_patches[i,:,:,:])\n",
    "    sitk.WriteImage(curr_seg, 'path/seg/patch_%d.nrrd' % i)"
   ]
  },
  {
   "cell_type": "code",
   "execution_count": null,
   "metadata": {},
   "outputs": [],
   "source": []
  }
 ],
 "metadata": {
  "kernelspec": {
   "display_name": "Python 3",
   "language": "python",
   "name": "python3"
  },
  "language_info": {
   "codemirror_mode": {
    "name": "ipython",
    "version": 3
   },
   "file_extension": ".py",
   "mimetype": "text/x-python",
   "name": "python",
   "nbconvert_exporter": "python",
   "pygments_lexer": "ipython3",
   "version": "3.7.6"
  }
 },
 "nbformat": 4,
 "nbformat_minor": 4
}
