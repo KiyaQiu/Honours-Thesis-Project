{
 "cells": [
  {
   "cell_type": "markdown",
   "metadata": {},
   "source": [
    "# IoU Calculation Code"
   ]
  },
  {
   "cell_type": "markdown",
   "metadata": {},
   "source": [
    "This Python notebook implements the calculation process of IoU score between two segmentation mask images to evaluate the performance of generated segmentation masks. "
   ]
  },
  {
   "cell_type": "markdown",
   "metadata": {},
   "source": [
    "## Importing Packages"
   ]
  },
  {
   "cell_type": "code",
   "execution_count": null,
   "metadata": {},
   "outputs": [],
   "source": [
    "import SimpleITK as sitk\n",
    "import numpy as np\n",
    "import matplotlib.pyplot as plt"
   ]
  },
  {
   "cell_type": "markdown",
   "metadata": {},
   "source": [
    "## Loading Segmentation Mask Data"
   ]
  },
  {
   "cell_type": "code",
   "execution_count": null,
   "metadata": {},
   "outputs": [],
   "source": [
    "# Loading ground truth segmentation mask\n",
    "gt_seg_path = 'gt_seg_path'\n",
    "gt_seg_original = sitk.ReadImage(gt_seg_path)\n",
    "gt_array = sitk.GetArrayFromImage(gt_seg_original)\n",
    "\n",
    "print('The size of image is: ', gt_array.shape)\n",
    "print('The range of intensity is from ', np.min(gt_array), 'to ', np.max(gt_array))"
   ]
  },
  {
   "cell_type": "code",
   "execution_count": null,
   "metadata": {},
   "outputs": [],
   "source": [
    "# Loading generated segmentation mask\n",
    "generated_seg_path = 'generated_seg_path'\n",
    "generated_seg_original = sitk.ReadImage(generated_seg_path)\n",
    "generated_array = sitk.GetArrayFromImage(generated_seg_original)\n",
    "\n",
    "print('The size of image is: ', generated_array.shape)\n",
    "print('The range of intensity is from ', np.min(generated_array), 'to ', np.max(generated_array))"
   ]
  },
  {
   "cell_type": "markdown",
   "metadata": {},
   "source": [
    "## Calculating IoU score"
   ]
  },
  {
   "cell_type": "code",
   "execution_count": null,
   "metadata": {},
   "outputs": [],
   "source": [
    "TP = np.sum(np.logical_and(generated_array == 1, gt_array == 1)) # True Positive\n",
    "TN = np.sum(np.logical_and(generated_array == 0, gt_array == 0)) # True Negative\n",
    "FP = np.sum(np.logical_and(generated_array == 1, gt_array == 0)) # False Positive\n",
    "FN = np.sum(np.logical_and(generated_array == 0, gt_array == 1)) # False Negative\n",
    "\n",
    "IoU_score = TP/(FP+FN+TP)\n",
    "\n",
    "print('IoU Score: ', IoU_score)"
   ]
  },
  {
   "cell_type": "code",
   "execution_count": null,
   "metadata": {},
   "outputs": [],
   "source": []
  }
 ],
 "metadata": {
  "kernelspec": {
   "display_name": "Python 3",
   "language": "python",
   "name": "python3"
  },
  "language_info": {
   "codemirror_mode": {
    "name": "ipython",
    "version": 3
   },
   "file_extension": ".py",
   "mimetype": "text/x-python",
   "name": "python",
   "nbconvert_exporter": "python",
   "pygments_lexer": "ipython3",
   "version": "3.7.6"
  }
 },
 "nbformat": 4,
 "nbformat_minor": 4
}
